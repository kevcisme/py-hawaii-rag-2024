{
 "cells": [
  {
   "cell_type": "code",
   "execution_count": 1,
   "metadata": {},
   "outputs": [],
   "source": [
    "!pip install python-dotenv openai --quiet"
   ]
  },
  {
   "cell_type": "code",
   "execution_count": 2,
   "metadata": {},
   "outputs": [],
   "source": [
    "import openai\n",
    "import os\n",
    "from glob import glob\n",
    "from openai import OpenAI\n",
    "import numpy as np\n",
    "from sklearn.metrics.pairwise import cosine_similarity\n",
    "import pandas as pd\n",
    "from dotenv import load_dotenv\n",
    "\n",
    "load_dotenv()\n",
    "\n",
    "openai.api_key = os.environ[\"OPENAI_API_KEY\"]\n",
    "client = OpenAI()"
   ]
  },
  {
   "cell_type": "markdown",
   "metadata": {},
   "source": [
    "### Helper Functions"
   ]
  },
  {
   "cell_type": "markdown",
   "metadata": {},
   "source": [
    "These first helper functions:\n",
    "1. Create embeddings, nothing too wild\n",
    "2. Find cosine similarity. This is the workhorse here\n",
    "3. Ranks/sorts given cosine distance\n",
    "4. Easy chatting abstraction"
   ]
  },
  {
   "cell_type": "code",
   "execution_count": 4,
   "metadata": {},
   "outputs": [],
   "source": [
    "def get_ada_embedding(text):\n",
    "    result = client.embeddings.create(input=[text], model=\"text-embedding-ada-002\")\n",
    "    return np.array(result.data[0].embedding).reshape(1, -1)\n",
    "\n",
    "def get_cosine_similarity(embedding1, embedding2):\n",
    "    return cosine_similarity(embedding1, embedding2)[0][0]\n",
    "\n",
    "def get_nearest_neighbor_text(text, df):\n",
    "    embedding = get_ada_embedding(text)\n",
    "    cosine_similarities = df.embedding.apply(lambda x: get_cosine_similarity(x, embedding))\n",
    "    closest_document = cosine_similarities.sort_values(ascending=False).head(1)\n",
    "    return df.loc[closest_document.index[0]].text\n",
    "\n",
    "def simple_chat(prompt):\n",
    "    return client.chat.completions.create(\n",
    "      model=\"gpt-4o\",\n",
    "      messages=[\n",
    "        {\"role\": \"system\", \"content\": \"You are a helpful Onboarding assistant.\"},\n",
    "        {\"role\": \"user\", \"content\": prompt},\n",
    "      ]\n",
    "    ).choices[0].message.content"
   ]
  },
  {
   "cell_type": "code",
   "execution_count": 5,
   "metadata": {},
   "outputs": [],
   "source": [
    "embeddings = [\n",
    "    (\"i love you\", get_ada_embedding(\"I love you.\")),\n",
    "    (\"i adore you\", get_ada_embedding(\"I adore you.\")),\n",
    "    (\"i hate you\", get_ada_embedding(\"I hate you.\")),\n",
    "    (\"i despise you\", get_ada_embedding(\"I despise you.\")),\n",
    "    (\"peanut butter sandwich\", get_ada_embedding(\"peanut butter sandwich\")),\n",
    "    (\"i am ambivalent toward you\", get_ada_embedding(\"i am ambivalent toward you\")),\n",
    "    (\"The happiness of your life depends upon the quality of your thoughts.\", get_ada_embedding(\"The happiness of your life depends upon the quality of your thoughts.\")),\n",
    "    (\"你生活的幸福取决于你思想的质量。\", get_ada_embedding(\"dsakljflks'ajfo[easi'urtoaeishfja'sdoilfjas]\")),\n",
    "]"
   ]
  },
  {
   "cell_type": "markdown",
   "metadata": {},
   "source": [
    "--- "
   ]
  },
  {
   "cell_type": "markdown",
   "metadata": {},
   "source": [
    "#### Similarity "
   ]
  },
  {
   "cell_type": "code",
   "execution_count": 6,
   "metadata": {},
   "outputs": [
    {
     "name": "stdout",
     "output_type": "stream",
     "text": [
      "i love you vs i love you: 1.0\n",
      "i love you vs i adore you: 0.922\n",
      "i love you vs i hate you: 0.844\n",
      "i love you vs i despise you: 0.824\n",
      "i love you vs peanut butter sandwich: 0.761\n",
      "i love you vs i am ambivalent toward you: 0.802\n",
      "i love you vs The happiness of your life depends upon the quality of your thoughts.: 0.764\n",
      "i love you vs 你生活的幸福取决于你思想的质量。: 0.76\n",
      " \n",
      " \n",
      "i hate you vs i love you: 0.844\n",
      "i hate you vs i adore you: 0.839\n",
      "i hate you vs i hate you: 1.0\n",
      "i hate you vs i despise you: 0.938\n",
      "i hate you vs peanut butter sandwich: 0.736\n",
      "i hate you vs i am ambivalent toward you: 0.815\n",
      "i hate you vs The happiness of your life depends upon the quality of your thoughts.: 0.719\n",
      "i hate you vs 你生活的幸福取决于你思想的质量。: 0.727\n",
      " \n",
      " \n",
      " \n",
      " \n",
      " \n",
      " \n"
     ]
    }
   ],
   "source": [
    "for name, embedding in embeddings:\n",
    "    for name2, embedding2 in embeddings:\n",
    "        if name in (\"i love you\", \"i hate you\"):\n",
    "            print(f\"{name} vs {name2}: {round(cosine_similarity(embedding, embedding2)[0][0], 3)}\")\n",
    "    print(\" \")"
   ]
  },
  {
   "cell_type": "markdown",
   "metadata": {},
   "source": [
    "## Semantic Searching "
   ]
  },
  {
   "cell_type": "markdown",
   "metadata": {},
   "source": [
    "Extending the idea from above with , we can think about words as existing in vector space."
   ]
  },
  {
   "cell_type": "markdown",
   "metadata": {},
   "source": [
    "First we're going to read in our data:"
   ]
  },
  {
   "cell_type": "code",
   "execution_count": 7,
   "metadata": {},
   "outputs": [],
   "source": [
    "raw_onboarding_docs = glob(\"documents/*.md\")\n",
    "onboarding_doc_text = []\n",
    "embeddings = []\n",
    "\n",
    "for doc in raw_onboarding_docs:\n",
    "    with open(doc) as f:\n",
    "        document_text = f.read()\n",
    "        onboarding_doc_text.append(document_text)\n",
    "        embeddings.append(get_ada_embedding(document_text))"
   ]
  },
  {
   "cell_type": "code",
   "execution_count": 8,
   "metadata": {},
   "outputs": [
    {
     "data": {
      "text/html": [
       "<div>\n",
       "<style scoped>\n",
       "    .dataframe tbody tr th:only-of-type {\n",
       "        vertical-align: middle;\n",
       "    }\n",
       "\n",
       "    .dataframe tbody tr th {\n",
       "        vertical-align: top;\n",
       "    }\n",
       "\n",
       "    .dataframe thead th {\n",
       "        text-align: right;\n",
       "    }\n",
       "</style>\n",
       "<table border=\"1\" class=\"dataframe\">\n",
       "  <thead>\n",
       "    <tr style=\"text-align: right;\">\n",
       "      <th></th>\n",
       "      <th>text</th>\n",
       "      <th>embedding</th>\n",
       "      <th>filename</th>\n",
       "    </tr>\n",
       "  </thead>\n",
       "  <tbody>\n",
       "    <tr>\n",
       "      <th>0</th>\n",
       "      <td># Senior Software Engineer Onboarding\\n\\n1. **...</td>\n",
       "      <td>[[0.013391508720815182, -0.01913640648126602, ...</td>\n",
       "      <td>documents/onboarding-senior-swe.md</td>\n",
       "    </tr>\n",
       "    <tr>\n",
       "      <th>1</th>\n",
       "      <td># Junior Software Engineer Onboarding\\n\\n1. **...</td>\n",
       "      <td>[[0.006385904736816883, -0.0068930406123399734...</td>\n",
       "      <td>documents/onboarding-junior-swe.md</td>\n",
       "    </tr>\n",
       "    <tr>\n",
       "      <th>2</th>\n",
       "      <td># Sales Account Executive Onboarding\\n\\n1. **C...</td>\n",
       "      <td>[[-0.0068964832462370396, -0.02236486598849296...</td>\n",
       "      <td>documents/onboarding-ae.md</td>\n",
       "    </tr>\n",
       "    <tr>\n",
       "      <th>3</th>\n",
       "      <td># Marketing Team Onboarding\\n\\n1. **Introducti...</td>\n",
       "      <td>[[-0.015337598510086536, -0.0217508003115654, ...</td>\n",
       "      <td>documents/onboading-marketing.md</td>\n",
       "    </tr>\n",
       "  </tbody>\n",
       "</table>\n",
       "</div>"
      ],
      "text/plain": [
       "                                                text  \\\n",
       "0  # Senior Software Engineer Onboarding\\n\\n1. **...   \n",
       "1  # Junior Software Engineer Onboarding\\n\\n1. **...   \n",
       "2  # Sales Account Executive Onboarding\\n\\n1. **C...   \n",
       "3  # Marketing Team Onboarding\\n\\n1. **Introducti...   \n",
       "\n",
       "                                           embedding  \\\n",
       "0  [[0.013391508720815182, -0.01913640648126602, ...   \n",
       "1  [[0.006385904736816883, -0.0068930406123399734...   \n",
       "2  [[-0.0068964832462370396, -0.02236486598849296...   \n",
       "3  [[-0.015337598510086536, -0.0217508003115654, ...   \n",
       "\n",
       "                             filename  \n",
       "0  documents/onboarding-senior-swe.md  \n",
       "1  documents/onboarding-junior-swe.md  \n",
       "2          documents/onboarding-ae.md  \n",
       "3    documents/onboading-marketing.md  "
      ]
     },
     "execution_count": 8,
     "metadata": {},
     "output_type": "execute_result"
    }
   ],
   "source": [
    "onboarding_docs_df = pd.DataFrame({\"text\": onboarding_doc_text, \"embedding\": embeddings, \"filename\": raw_onboarding_docs})\n",
    "onboarding_docs_df.head()"
   ]
  },
  {
   "cell_type": "markdown",
   "metadata": {},
   "source": [
    "Now, let's try finding a word w/ keyword search. In the Junior and Senior SWE we might be trying to answer a question about \"what sort of code editor is used around here. Let's see \"code editor\"  with a simple CTRL + F keyword search"
   ]
  },
  {
   "cell_type": "code",
   "execution_count": 15,
   "metadata": {},
   "outputs": [
    {
     "data": {
      "text/html": [
       "<div>\n",
       "<style scoped>\n",
       "    .dataframe tbody tr th:only-of-type {\n",
       "        vertical-align: middle;\n",
       "    }\n",
       "\n",
       "    .dataframe tbody tr th {\n",
       "        vertical-align: top;\n",
       "    }\n",
       "\n",
       "    .dataframe thead th {\n",
       "        text-align: right;\n",
       "    }\n",
       "</style>\n",
       "<table border=\"1\" class=\"dataframe\">\n",
       "  <thead>\n",
       "    <tr style=\"text-align: right;\">\n",
       "      <th></th>\n",
       "      <th>text</th>\n",
       "      <th>embedding</th>\n",
       "      <th>filename</th>\n",
       "    </tr>\n",
       "  </thead>\n",
       "  <tbody>\n",
       "  </tbody>\n",
       "</table>\n",
       "</div>"
      ],
      "text/plain": [
       "Empty DataFrame\n",
       "Columns: [text, embedding, filename]\n",
       "Index: []"
      ]
     },
     "execution_count": 15,
     "metadata": {},
     "output_type": "execute_result"
    }
   ],
   "source": [
    "onboarding_docs_df[onboarding_docs_df['text'].str.contains(\"code editor\")]"
   ]
  },
  {
   "cell_type": "markdown",
   "metadata": {},
   "source": [
    "Now with semantic search:"
   ]
  },
  {
   "cell_type": "code",
   "execution_count": 16,
   "metadata": {},
   "outputs": [
    {
     "data": {
      "text/plain": [
       "\"# Junior Software Engineer Onboarding\\n\\n1. **Introduction to the Team and Culture:**\\n   - Welcome the new engineer and introduce them to the team members with whom they'll be working closely.\\n   - Organize a meet-and-greet with key members of other departments to build interdepartmental relationships.\\n   - Provide an overview of the company's culture, values, and mission to instill a sense of belonging and purpose.\\n\\n2. **Setup of Tools and Environment:**\\n   - Ensure their workstation is fully set up with the necessary hardware and software.\\n   - Provide access to all required internal systems, including email, project management tools, code repositories, and documentation.\\n   - Guide them through the setup of development environments, including IDEs, databases, and local servers.\\n\\n3. **Codebase and Documentation Review:**\\n   - Walk them through the architecture of the main projects they will be working on.\\n   - Review the existing documentation, including code style guides, best practices, and contribution guidelines.\\n   - Assign reading and understanding of the current codebase as a task, starting with simple modules and gradually moving to more complex areas.\\n\\n4. **Training and Development:**\\n   - Create a personalized learning plan that includes internal training sessions, online courses, and reading materials relevant to their role.\\n   - Pair them with a mentor for regular check-ins and guidance.\\n   - Encourage participation in code reviews to familiarize them with the team's coding practices and standards.\\n\\n5. **Initial Assignments and Feedback:**\\n   - Start with small, manageable tasks that contribute to current projects, allowing them to get a quick sense of achievement.\\n   - Schedule regular one-on-one meetings to provide constructive feedback and discuss progress.\\n   - Set clear short-term goals and review these goals regularly to track development and adjust the learning path as necessary.\""
      ]
     },
     "execution_count": 16,
     "metadata": {},
     "output_type": "execute_result"
    }
   ],
   "source": [
    "get_nearest_neighbor_text(\"code editor\", onboarding_docs_df)"
   ]
  },
  {
   "cell_type": "markdown",
   "metadata": {},
   "source": [
    "--- "
   ]
  },
  {
   "cell_type": "markdown",
   "metadata": {},
   "source": [
    "### RAG + Prompting"
   ]
  },
  {
   "cell_type": "markdown",
   "metadata": {},
   "source": [
    "We can use RAG to surface most \"important\" content, which we can think of as most similar content to the concepts that we're in the space of, then pass that to a prompt to do retrieval of documents. This is like a toy example of what we were talking about with Scribd."
   ]
  },
  {
   "cell_type": "code",
   "execution_count": 8,
   "metadata": {},
   "outputs": [],
   "source": [
    "new_message = \"I just started my new job as a junior software engineer. I'm so excited to be here! What should I do first?\""
   ]
  },
  {
   "cell_type": "code",
   "execution_count": 9,
   "metadata": {},
   "outputs": [
    {
     "name": "stdout",
     "output_type": "stream",
     "text": [
      "# Junior Software Engineer Onboarding\n",
      "\n",
      "1. **Introduction to the Team and Culture:**\n",
      "   - Welcome the new engineer and introduce them to the team members with whom they'll be working closely.\n",
      "   - Organize a meet-and-greet with key members of other departments to build interdepartmental relationships.\n",
      "   - Provide an overview of the company's culture, values, and mission to instill a sense of belonging and purpose.\n",
      "\n",
      "2. **Setup of Tools and Environment:**\n",
      "   - Ensure their workstation is fully set up with the necessary hardware and software.\n",
      "   - Provide access to all required internal systems, including email, project management tools, code repositories, and documentation.\n",
      "   - Guide them through the setup of development environments, including IDEs, databases, and local servers.\n",
      "\n",
      "3. **Codebase and Documentation Review:**\n",
      "   - Walk them through the architecture of the main projects they will be working on.\n",
      "   - Review the existing documentation, including code style guides, best practices, and contribution guidelines.\n",
      "   - Assign reading and understanding of the current codebase as a task, starting with simple modules and gradually moving to more complex areas.\n",
      "\n",
      "4. **Training and Development:**\n",
      "   - Create a personalized learning plan that includes internal training sessions, online courses, and reading materials relevant to their role.\n",
      "   - Pair them with a mentor for regular check-ins and guidance.\n",
      "   - Encourage participation in code reviews to familiarize them with the team's coding practices and standards.\n",
      "\n",
      "5. **Initial Assignments and Feedback:**\n",
      "   - Start with small, manageable tasks that contribute to current projects, allowing them to get a quick sense of achievement.\n",
      "   - Schedule regular one-on-one meetings to provide constructive feedback and discuss progress.\n",
      "   - Set clear short-term goals and review these goals regularly to track development and adjust the learning path as necessary.\n"
     ]
    }
   ],
   "source": [
    "print(get_nearest_neighbor_text(new_message, onboarding_docs_df))"
   ]
  },
  {
   "cell_type": "markdown",
   "metadata": {},
   "source": [
    "--- "
   ]
  },
  {
   "cell_type": "markdown",
   "metadata": {},
   "source": [
    "### RAG + Chat"
   ]
  },
  {
   "cell_type": "markdown",
   "metadata": {},
   "source": [
    "We can use RAG to surface important concepts up, then pass those concepts over to our prompt - which eventually makes its way to and from OpenAI - to give our chat better context and sort of like a hint on what it should take into consideration"
   ]
  },
  {
   "cell_type": "code",
   "execution_count": 18,
   "metadata": {},
   "outputs": [],
   "source": [
    "def help_me_onboard(question, onboarding_docs_df=onboarding_docs_df):\n",
    "  \n",
    "    closest_document_text = get_nearest_neighbor_text(question, onboarding_docs_df)\n",
    "\n",
    "    prompt = f\"\"\"\n",
    "    I would like help answering the following question:\n",
    "\n",
    "    {question}\n",
    "\n",
    "    Please only answer the question using this as context:\n",
    "\n",
    "    {closest_document_text}\n",
    "    \"\"\"\n",
    "\n",
    "    print(simple_chat(prompt))"
   ]
  },
  {
   "cell_type": "code",
   "execution_count": 19,
   "metadata": {},
   "outputs": [
    {
     "name": "stdout",
     "output_type": "stream",
     "text": [
      "We use the context of the information given regarding Junior Software Engineer onboarding to answer your question. However, the question \"What language do we use?\" is not directly addressed in this context. Based on the provided context which includes code reviews, development environments, and IDEs, it is likely referring to programming languages. Typically, this would involve languages commonly used in software engineering, such as Python, Java, C++, or JavaScript, but the specific language your team uses is not explicitly stated in the provided text. You might need to consult with your team or onboarding documents for precise information.\n"
     ]
    }
   ],
   "source": [
    "help_me_onboard(\"What language do we use?\")"
   ]
  },
  {
   "cell_type": "code",
   "execution_count": 11,
   "metadata": {},
   "outputs": [
    {
     "name": "stdout",
     "output_type": "stream",
     "text": [
      "After attending orientation and product training as a new Account Executive, there are several steps you can take to further prepare for your role:\n",
      "\n",
      "1. **Familiarize Yourself with Systems and Tools:** Learn how to use the CRM software, communication tools, and any other technology platforms that are necessary for your job. Understand how to track leads, manage customer interactions, and report sales activities.\n",
      "\n",
      "2. **Review the Sales Process and Methodologies:** Go over the sales process in detail, including prospecting, qualification, needs analysis, solution offering, objection handling, closing techniques, and post-sale service. Familiarize yourself with the preferred sales methodologies and strategies your company uses, such as SPIN Selling or Challenger Sales.\n",
      "\n",
      "3. **Gain Market and Customer Insights:** Dig deeper into your target market by researching industry trends, key players, and conducting market analysis. Understand your customer personas, including their buying patterns and decision-making processes. This knowledge will help you tailor your sales approach accordingly.\n",
      "\n",
      "4. **Seek Mentorship and Role-Playing Opportunities:** Connect with a mentor or an experienced salesperson who can provide guidance and support as you navigate your new role. Engage in role-playing exercises to practice various sales scenarios, negotiation techniques, and objection handling. This practical experience will enhance your confidence and effectiveness in real-life sales situations.\n",
      "\n",
      "By following these steps, you can continue to build your knowledge and skills as an Account Executive, setting yourself up for success in your new role.\n"
     ]
    }
   ],
   "source": [
    "help_me_onboard(\"I am a new AE. I've attended orientation and prodcut training. What should I do next?\")"
   ]
  },
  {
   "cell_type": "code",
   "execution_count": 20,
   "metadata": {},
   "outputs": [],
   "source": [
    "!pip install segno pillow qrcode-artistic --quiet"
   ]
  },
  {
   "cell_type": "code",
   "execution_count": 21,
   "metadata": {},
   "outputs": [],
   "source": [
    "import segno\n",
    "from urllib.request import urlopen\n",
    "\n",
    "qrcode = segno.make_qr(\"https://docs.google.com/presentation/d/1BEXKx4GHmku6VdD54zZPauBqQ6YN9mkPKUWbQeHXzZ8/edit?usp=sharing\")\n",
    "qrcode.save(\"basic_qrcode.png\", \n",
    "            scale=20,\n",
    "           border=0,\n",
    "            light=\"#f5f2eb\",\n",
    "            dark=\"#dda04c\")\n",
    "# logo_link = urlopen(\"https://upload.wikimedia.org/wikipedia/commons/thumb/c/c3/Python-logo-notext.svg/1869px-Python-logo-notext.svg.png\")\n",
    "# qrcode.to_artistic(\n",
    "#     background=logo_link,\n",
    "#     target=\"py-rag-qrcode.png\",\n",
    "#     scale=20,\n",
    "#     border=0,\n",
    "#     light=\"#f5f2eb\",\n",
    "#     dark=\"#dda04c\""
   ]
  },
  {
   "cell_type": "code",
   "execution_count": null,
   "metadata": {},
   "outputs": [],
   "source": []
  }
 ],
 "metadata": {
  "kernelspec": {
   "display_name": "Python 3 (ipykernel)",
   "language": "python",
   "name": "python3"
  },
  "language_info": {
   "codemirror_mode": {
    "name": "ipython",
    "version": 3
   },
   "file_extension": ".py",
   "mimetype": "text/x-python",
   "name": "python",
   "nbconvert_exporter": "python",
   "pygments_lexer": "ipython3",
   "version": "3.11.6"
  }
 },
 "nbformat": 4,
 "nbformat_minor": 4
}
